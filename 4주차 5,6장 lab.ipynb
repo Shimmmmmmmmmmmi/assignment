{
 "cells": [
  {
   "cell_type": "code",
   "execution_count": 1,
   "id": "e78a31d2",
   "metadata": {},
   "outputs": [
    {
     "name": "stdout",
     "output_type": "stream",
     "text": [
      "[2, 4, 6, 8, 10]\n"
     ]
    }
   ],
   "source": [
    "#5-1.1\n",
    "even_list=[2,4,6,8,10]\n",
    "print(even_list)"
   ]
  },
  {
   "cell_type": "code",
   "execution_count": 2,
   "id": "477b4bd7",
   "metadata": {},
   "outputs": [
    {
     "name": "stdout",
     "output_type": "stream",
     "text": [
      "[2, 4, 6, 8, 10]\n"
     ]
    }
   ],
   "source": [
    "#5-1.2\n",
    "even_list=list(range(2,11,2))\n",
    "print(even_list)"
   ]
  },
  {
   "cell_type": "code",
   "execution_count": 8,
   "id": "16baf7df",
   "metadata": {},
   "outputs": [
    {
     "name": "stdout",
     "output_type": "stream",
     "text": [
      "nations = ['Korea', 'China', 'India', 'Nepal']\n"
     ]
    }
   ],
   "source": [
    "#5-1.3\n",
    "nations=['Korea','China','India','Nepal']\n",
    "print('nations =',nations)"
   ]
  },
  {
   "cell_type": "code",
   "execution_count": 9,
   "id": "7d835ebd",
   "metadata": {},
   "outputs": [
    {
     "name": "stdout",
     "output_type": "stream",
     "text": [
      "friends = ['현빈', '원빈', '승희', '아린', '미미']\n"
     ]
    }
   ],
   "source": [
    "#5-1.4\n",
    "friends=['현빈','원빈','승희','아린','미미']\n",
    "print('friends =',friends)\n"
   ]
  },
  {
   "cell_type": "code",
   "execution_count": 10,
   "id": "e9f4692e",
   "metadata": {},
   "outputs": [
    {
     "name": "stdout",
     "output_type": "stream",
     "text": [
      "string = ['x', 'y', 'z']\n"
     ]
    }
   ],
   "source": [
    "#5-1.5\n",
    "string=list('xyz')\n",
    "print('string =',string)"
   ]
  },
  {
   "cell_type": "code",
   "execution_count": 14,
   "id": "da85385b",
   "metadata": {},
   "outputs": [
    {
     "name": "stdout",
     "output_type": "stream",
     "text": [
      "prime_list = 2\n",
      "prime_list의 마지막 원소 : 7\n",
      "prime_list의 마지막 원소 : 7\n"
     ]
    }
   ],
   "source": [
    "#5-2.1\n",
    "prime_list=[]\n",
    "for i in range(1,11):\n",
    "    for j in range(2,i+1):\n",
    "        if i==j:\n",
    "            prime_list.append(i)\n",
    "        elif i%j==0:\n",
    "            break\n",
    "print('prime_list =',prime_list[0])\n",
    "\n",
    "#5-2.2\n",
    "print('prime_list의 마지막 원소 :',prime_list[3])\n",
    "\n",
    "#5-2.3'\n",
    "print('prime_list의 마지막 원소 :',prime_list[-1])\n"
   ]
  },
  {
   "cell_type": "code",
   "execution_count": 16,
   "id": "1d341066",
   "metadata": {},
   "outputs": [
    {
     "name": "stdout",
     "output_type": "stream",
     "text": [
      "nations의 첫 원소 : Korea\n",
      "nations의 마지막 원소: Malaysia\n",
      "nations의 마지막 원소: Malaysia\n"
     ]
    }
   ],
   "source": [
    "#5-2.4\n",
    "nations=['Korea','China','Russia','Malaysia']\n",
    "print('nations의 첫 원소 :',nations[0])\n",
    "\n",
    "#5-2.5\n",
    "print('nations의 마지막 원소:',nations[-1])\n",
    "\n",
    "#5-2.6\n",
    "print('nations의 마지막 원소:',nations[len(nations)-1])"
   ]
  },
  {
   "cell_type": "code",
   "execution_count": 20,
   "id": "7b579b3d",
   "metadata": {},
   "outputs": [
    {
     "name": "stdout",
     "output_type": "stream",
     "text": [
      "소수 목록: [2, 3, 5, 7]\n",
      "추가 후 소수 목록: [2, 3, 5, 7, 11]\n",
      "삭제 전 소수 목록: [2, 3, 5, 7, 11]\n",
      "삭제 후 소수 목록: [2, 5, 7, 11]\n"
     ]
    }
   ],
   "source": [
    "#5-3.1\n",
    "prime_list=[]\n",
    "for i in range(1,11):\n",
    "    for j in range(2,i+1):\n",
    "        if i==j:\n",
    "            prime_list.append(i)\n",
    "        elif i%j==0:\n",
    "            break\n",
    "print('소수 목록:',prime_list)\n",
    "prime_list.append(11)\n",
    "print('추가 후 소수 목록:',prime_list)\n",
    "\n",
    "#5-3.2\n",
    "print('삭제 전 소수 목록:',prime_list)\n",
    "prime_list.remove(3)\n",
    "print('삭제 후 소수 목록:',prime_list)"
   ]
  },
  {
   "cell_type": "code",
   "execution_count": 26,
   "id": "7f953d82",
   "metadata": {},
   "outputs": [
    {
     "name": "stdout",
     "output_type": "stream",
     "text": [
      "국가 목록: ['Korea', 'China', 'Russia', 'Malaysia']\n",
      "추가 후 국가 목록: ['Korea', 'China', 'Russia', 'Malaysia', 'Nepal']\n",
      "Japan는(은) 국가 목록에 없습니다.\n",
      "Russia는(은) 국가 목록에 있습니다.\n"
     ]
    }
   ],
   "source": [
    "#5-3.3\n",
    "nations=['Korea','China','Russia','Malaysia']\n",
    "print('국가 목록:',nations)\n",
    "nations.append('Nepal')\n",
    "print('추가 후 국가 목록:',nations)\n",
    "\n",
    "#5-3.4\n",
    "if 'Japan' in nations:\n",
    "    print('Japan는(은) 국가 목록에 있습니다.')\n",
    "else:\n",
    "    print('Japan는(은) 국가 목록에 없습니다.')\n",
    "if 'Russia' in nations:\n",
    "    print('Russia는(은) 국가 목록에 있습니다.')\n",
    "else:\n",
    "    print('Russia는(은) 국가 목록에 없습니다.')"
   ]
  },
  {
   "cell_type": "code",
   "execution_count": 36,
   "id": "70bedff7",
   "metadata": {},
   "outputs": [
    {
     "name": "stdout",
     "output_type": "stream",
     "text": [
      "1에서 10까지의 소수 : [2, 3, 5, 7]\n",
      "최솟값 : 2\n",
      "최솟값 : 7\n",
      "합계 : 17\n",
      "평균 : 4.25\n"
     ]
    }
   ],
   "source": [
    "#5-4.1\n",
    "prime_list=[]\n",
    "for i in range(1,11):\n",
    "    for j in range(2,i+1):\n",
    "        if i==j:\n",
    "            prime_list.append(i) \n",
    "        elif i%j==0:\n",
    "            break\n",
    "print('1에서 10까지의 소수 :',prime_list)            \n",
    "print('최솟값 :',min(prime_list))\n",
    "print('최솟값 :',max(prime_list))\n",
    "print('합계 :',sum(prime_list))\n",
    "print('평균 :',sum(prime_list)/len(prime_list))"
   ]
  },
  {
   "cell_type": "code",
   "execution_count": 37,
   "id": "a8eef0cf",
   "metadata": {},
   "outputs": [
    {
     "name": "stdout",
     "output_type": "stream",
     "text": [
      "국가 목록 : ['Korea', 'China', 'Russia', 'Malaysia']\n",
      "사전에 가장 먼저 나오는 나라: China\n",
      "사전에 가장 뒤에 나오는 나라: Russia\n"
     ]
    }
   ],
   "source": [
    "#5-4.2\n",
    "nations=['Korea','China','Russia','Malaysia']\n",
    "print('국가 목록 :',nations)\n",
    "print('사전에 가장 먼저 나오는 나라:',min(nations))\n",
    "print('사전에 가장 뒤에 나오는 나라:',max(nations))"
   ]
  },
  {
   "cell_type": "code",
   "execution_count": 38,
   "id": "213f5185",
   "metadata": {},
   "outputs": [
    {
     "data": {
      "text/plain": [
       "[1, 2, 3, [10, 20, 30]]"
      ]
     },
     "execution_count": 38,
     "metadata": {},
     "output_type": "execute_result"
    }
   ],
   "source": [
    "#5-5.1\n",
    "a=[1,2,3]\n",
    "b=[10,20,30]\n",
    "a.append(b)\n",
    "a"
   ]
  },
  {
   "cell_type": "code",
   "execution_count": 40,
   "id": "8fd13590",
   "metadata": {},
   "outputs": [
    {
     "data": {
      "text/plain": [
       "[1, 2, 3, 10, 20, 30]"
      ]
     },
     "execution_count": 40,
     "metadata": {},
     "output_type": "execute_result"
    }
   ],
   "source": [
    "#5-5.1(2)\n",
    "a=[1,2,3]\n",
    "b=[10,20,30]\n",
    "a.extend(b)\n",
    "a"
   ]
  },
  {
   "cell_type": "code",
   "execution_count": 51,
   "id": "bcf957d5",
   "metadata": {},
   "outputs": [
    {
     "name": "stdout",
     "output_type": "stream",
     "text": [
      "nlist= [1, 2, 3, 4, 5, 6, 7, 8, 9, 10]\n",
      "nlist= [0, 1, 2, 3, 4, 5, 6, 7, 8, 9, 10]\n",
      "nlist= [10, 9, 8, 7, 6, 5, 4, 3, 2, 1, 0]\n",
      "마지막 원소= 0\n",
      "nlist= [10, 9, 8, 7, 6, 5, 4, 3, 2, 1]\n"
     ]
    }
   ],
   "source": [
    "#5-5.2\n",
    "nlist=list(range(1,11))\n",
    "print('nlist=',nlist)\n",
    "#5-5.3\n",
    "nlist.insert(0,0)\n",
    "print('nlist=',nlist)\n",
    "#5-5.4\n",
    "nlist.sort(reverse=True)\n",
    "print('nlist=',nlist)\n",
    "#5-5.5\n",
    "print('마지막 원소=',nlist.pop(-1))\n",
    "print('nlist=',nlist)"
   ]
  },
  {
   "cell_type": "code",
   "execution_count": 53,
   "id": "5330a504",
   "metadata": {},
   "outputs": [
    {
     "name": "stdout",
     "output_type": "stream",
     "text": [
      "반복할 정수를 입력하시오:4\n",
      "[1, 2, 3, 1, 2, 3, 1, 2, 3, 1, 2, 3]\n"
     ]
    }
   ],
   "source": [
    "#5-6\n",
    "n=int(input('반복할 정수를 입력하시오:'))\n",
    "a=[1,2,3]\n",
    "print(a*n)"
   ]
  },
  {
   "cell_type": "code",
   "execution_count": 63,
   "id": "00bbc962",
   "metadata": {},
   "outputs": [
    {
     "name": "stdout",
     "output_type": "stream",
     "text": [
      "n_list= [0, 1, 2, 3, 4, 5, 6, 7, 8, 9, 10, 11, 12, 13, 14]\n",
      "s_list1= [0, 1, 2, 3, 4]\n",
      "s_list2= [5, 6, 7, 8, 9, 10]\n",
      "s_list3= [11, 12, 13, 14]\n",
      "s_list4= [2, 4, 6, 8, 10]\n",
      "s_list5= [10, 9, 8, 7, 6]\n",
      "s_list6= [10, 8, 6, 4, 2]\n"
     ]
    }
   ],
   "source": [
    "#5-7.1\n",
    "n_list=list(range(15))\n",
    "print('n_list=',n_list)\n",
    "\n",
    "#5-7.2\n",
    "s_list1=n_list[:5]\n",
    "print('s_list1=',s_list1)\n",
    "s_list2=n_list[5:11]\n",
    "print('s_list2=',s_list2)\n",
    "s_list3=n_list[11:15]\n",
    "print('s_list3=',s_list3)\n",
    "s_list4=n_list[2:11:2]\n",
    "print('s_list4=',s_list4)\n",
    "s_list5=n_list[10:5:-1]\n",
    "print('s_list5=',s_list5)\n",
    "s_list6=n_list[10:1:-2]\n",
    "print('s_list6=',s_list6)"
   ]
  },
  {
   "cell_type": "code",
   "execution_count": 64,
   "id": "9738456e",
   "metadata": {},
   "outputs": [
    {
     "data": {
      "text/plain": [
       "'Washington DC'"
      ]
     },
     "execution_count": 64,
     "metadata": {},
     "output_type": "execute_result"
    }
   ],
   "source": [
    "#6-1.1\n",
    "\n",
    "capital_dic={'Korea':'Seoul','China':'Beijing','USA':'Washington DC'}\n",
    "\n",
    "capital_dic['Korea']\n",
    "\n",
    "capital_dic['China']\n",
    "\n",
    "capital_dic['USA']"
   ]
  },
  {
   "cell_type": "code",
   "execution_count": 69,
   "id": "92b39a4b",
   "metadata": {},
   "outputs": [
    {
     "name": "stdout",
     "output_type": "stream",
     "text": [
      "apple의 가격은 5000원입니다\n",
      "banana의 가격은 4000원입니다\n",
      "grape의 가격은 5300원입니다\n",
      "melon의 가격은 6500원입니다\n"
     ]
    }
   ],
   "source": [
    "#6-1.2\n",
    "fruits_dic={'apple':5000,'banana':4000,'grape':5300,'melon':6500}\n",
    "print('apple의 가격은 {}원입니다'.format(fruits_dic.get('apple')))\n",
    "print('banana의 가격은 {}원입니다'.format(fruits_dic.get('banana')))\n",
    "print('grape의 가격은 {}원입니다'.format(fruits_dic.get('grape')))\n",
    "print('melon의 가격은 {}원입니다'.format(fruits_dic.get('melon')))"
   ]
  },
  {
   "cell_type": "code",
   "execution_count": 72,
   "id": "2f906b78",
   "metadata": {},
   "outputs": [
    {
     "name": "stdout",
     "output_type": "stream",
     "text": [
      "{'이름': '홍길동', '나이': 26, '몸무게': 82, '특기': '분신술'}\n",
      "{'이름': '홍길동', '나이': 26, '몸무게': 82, '특기': '분신술', '아버지': '홍판서'}\n",
      "{'이름': '홍길동', '몸무게': 82, '특기': '분신술', '아버지': '홍판서'}\n"
     ]
    }
   ],
   "source": [
    "#6-2.1  딕셔너리 항목 추가\n",
    "person={'이름':'홍길동','나이':26,'몸무게':82}\n",
    "person['특기']='분신술'\n",
    "print(person)\n",
    "#6-2.2\n",
    "person['아버지']='홍판서'\n",
    "print(person)\n",
    "#6-2.3    딕셔너리 항목 삭제\n",
    "del person['나이']  \n",
    "print(person)"
   ]
  },
  {
   "cell_type": "code",
   "execution_count": 80,
   "id": "b8e0d04f",
   "metadata": {},
   "outputs": [
    {
     "data": {
      "text/plain": [
       "False"
      ]
     },
     "execution_count": 80,
     "metadata": {},
     "output_type": "execute_result"
    }
   ],
   "source": [
    "#6-3\n",
    "capital_dic={'Korea':'Seoul','China':'Beijing','USA':'Washington DC'}\n",
    "'Korea' in capital_dic\n",
    "'China' in capital_dic\n",
    "'Idonesia' in capital_dic\n",
    "'Beijing' in capital_dic"
   ]
  },
  {
   "cell_type": "code",
   "execution_count": 88,
   "id": "9da77849",
   "metadata": {},
   "outputs": [
    {
     "name": "stdout",
     "output_type": "stream",
     "text": [
      "dict_keys(['apple', 'melon', 'banana', 'grape'])\n",
      "dict_values([6000, 3000, 5000, 7000])\n",
      "{'melon': 3000, 'banana': 5000, 'grape': 7000}\n",
      "{}\n"
     ]
    }
   ],
   "source": [
    "#6-4.1\n",
    "fruits_dic={'apple':6000,'melon':3000,'banana':5000,'grape':7000}\n",
    "print(fruits_dic.keys())\n",
    "#6-4.2\n",
    "print(fruits_dic.values())\n",
    "#6-4.3\n",
    "fruits_dic.pop('apple')\n",
    "print(fruits_dic)\n",
    "#6-4.4   \n",
    "fruits_dic.clear()\n",
    "print(fruits_dic)"
   ]
  },
  {
   "cell_type": "code",
   "execution_count": 95,
   "id": "e0b220b3",
   "metadata": {},
   "outputs": [
    {
     "name": "stdout",
     "output_type": "stream",
     "text": [
      "['apple', 'melon', 'banana', 'orange']\n",
      "[6000, 3000, 5000, 4000]\n",
      "fruits_dic 딕셔너리의 항목의 개수: 4\n",
      "mango is not in fruits_dic\n",
      "apple is in fruits_dic\n"
     ]
    }
   ],
   "source": [
    "#6-5.1\n",
    "fruits_dic={'apple':6000,'melon':3000,'banana':5000,'orange':4000}\n",
    "print(list(fruits_dic.keys()))\n",
    "\n",
    "#6-5.2\n",
    "print(list(fruits_dic.values()))\n",
    "\n",
    "\n",
    "#6-5.3\n",
    "print('fruits_dic 딕셔너리의 항목의 개수:',len(fruits_dic))\n",
    "\n",
    "#6-5.4\n",
    "if 'mango' in fruits_dic:\n",
    "    print('mango is in fruits_dic')\n",
    "else:\n",
    "    print('mango is not in fruits_dic')\n",
    "if 'apple' in fruits_dic:\n",
    "    print('apple is in fruits_dic')\n",
    "else:\n",
    "    print('apple is not in fruits_dic')"
   ]
  },
  {
   "cell_type": "code",
   "execution_count": 100,
   "id": "d2ebad30",
   "metadata": {},
   "outputs": [
    {
     "name": "stdout",
     "output_type": "stream",
     "text": [
      "1919년 3월 1일은 삼일절입니다.\n",
      "a= 3\n",
      "b= 2\n",
      "c= 1\n"
     ]
    }
   ],
   "source": [
    "#6-6.1\n",
    "the_day=(1919,3,1)\n",
    "year,month,day=the_day\n",
    "print(f'{year}년 {month}월 {day}일은 삼일절입니다.')\n",
    "\n",
    "#6-6.2\n",
    "list1=[1,2,3]\n",
    "a,b,c=tuple(list1)\n",
    "a,c=c,a\n",
    "print('a=',a)\n",
    "print('b=',b)\n",
    "print('c=',c)"
   ]
  },
  {
   "cell_type": "code",
   "execution_count": 112,
   "id": "12cec117",
   "metadata": {},
   "outputs": [
    {
     "name": "stdout",
     "output_type": "stream",
     "text": [
      "학적 변동 후 person= ('홍길동', 2019003, 179)\n"
     ]
    }
   ],
   "source": [
    "#6-7.1\n",
    "person=('홍길동',2019001,179)\n",
    "\n",
    "#6-7.2\n",
    "person[1]=2019003\n",
    "\n",
    "\n",
    "#6-7.3\n",
    "list1=list(person)\n",
    "list1[1]=2019003\n",
    "person=tuple(list1)\n",
    "print('학적 변동 후 person=',person)"
   ]
  },
  {
   "cell_type": "code",
   "execution_count": 120,
   "id": "c7b726ff",
   "metadata": {},
   "outputs": [
    {
     "name": "stdout",
     "output_type": "stream",
     "text": [
      "x=10\n",
      "y=20\n",
      "10제곱 = 100,20제곱 = 400\n",
      "HelloHelloHello\n",
      "('Hello', 'Hello', 'Hello')\n"
     ]
    }
   ],
   "source": [
    "#6-8.1\n",
    "\n",
    "x=int(input('x='))\n",
    "y=int(input('y='))\n",
    "def square(x,y):\n",
    "    x_sq=x**2\n",
    "    y_sq=y**2\n",
    "    return x_sq,y_sq\n",
    "x_sq,y_sq=square(x,y)\n",
    "print('{}제곱 = {},{}제곱 = {}'.format(x,x_sq,y,y_sq))\n",
    "\n",
    "\n",
    "#6-8.2\n",
    "print('Hello'*3)\n",
    "print(('Hello',)*3)"
   ]
  },
  {
   "cell_type": "code",
   "execution_count": 124,
   "id": "9be3e9ea",
   "metadata": {},
   "outputs": [
    {
     "name": "stdout",
     "output_type": "stream",
     "text": [
      "lst= ['apple', 'mango', 'banana']\n",
      "s1= {'banana', 'mango', 'apple'}\n",
      "greet= Good aprternoon\n",
      "s2= {'n', 'o', 'p', 't', ' ', 'a', 'e', 'd', 'r', 'G'}\n"
     ]
    }
   ],
   "source": [
    "#6-9.1\n",
    "lst=['apple','mango','banana']\n",
    "s1=set(lst)\n",
    "print('lst=',lst)\n",
    "print('s1=',s1)\n",
    "#6-9.2\n",
    "greet='Good aprternoon'\n",
    "s2=set(greet)\n",
    "print('greet=',greet)\n",
    "print('s2=',s2)"
   ]
  },
  {
   "cell_type": "code",
   "execution_count": 131,
   "id": "7592c692",
   "metadata": {},
   "outputs": [
    {
     "data": {
      "text/plain": [
       "False"
      ]
     },
     "execution_count": 131,
     "metadata": {},
     "output_type": "execute_result"
    }
   ],
   "source": [
    "#6-10\n",
    "s1={10,20,30,40}\n",
    "s2={30,40,50,60,70}\n",
    "s1|s2\n",
    "s1&s2\n",
    "s1-s2\n",
    "s1^s2\n",
    "s1.issubset(s2)\n",
    "s1.issuperset(s2)\n",
    "s1.isdisjoint(s2)"
   ]
  },
  {
   "cell_type": "code",
   "execution_count": null,
   "id": "590d7306",
   "metadata": {},
   "outputs": [],
   "source": []
  }
 ],
 "metadata": {
  "kernelspec": {
   "display_name": "Python 3 (ipykernel)",
   "language": "python",
   "name": "python3"
  },
  "language_info": {
   "codemirror_mode": {
    "name": "ipython",
    "version": 3
   },
   "file_extension": ".py",
   "mimetype": "text/x-python",
   "name": "python",
   "nbconvert_exporter": "python",
   "pygments_lexer": "ipython3",
   "version": "3.9.12"
  }
 },
 "nbformat": 4,
 "nbformat_minor": 5
}
