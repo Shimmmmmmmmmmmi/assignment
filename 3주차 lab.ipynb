{
 "cells": [
  {
   "cell_type": "code",
   "execution_count": 4,
   "id": "1746605a",
   "metadata": {},
   "outputs": [
    {
     "name": "stdout",
     "output_type": "stream",
     "text": [
      "game_score = 1300\n",
      "당신은 고수입니다.\n"
     ]
    }
   ],
   "source": [
    "#3.-1.1\n",
    "game_score=1300\n",
    "print('game_score =',game_score)\n",
    "if game_score>=1000:\n",
    "    print('당신은 고수입니다.')"
   ]
  },
  {
   "cell_type": "code",
   "execution_count": 11,
   "id": "5a03bc7a",
   "metadata": {},
   "outputs": [
    {
     "name": "stdout",
     "output_type": "stream",
     "text": [
      "num_a= 300 , num_b = 300\n",
      "두 값이 일치합니다.\n"
     ]
    }
   ],
   "source": [
    "#3.-1.2\n",
    "num_a, num_b=300,300\n",
    "print('num_a=',num_a,', num_b =',num_b)\n",
    "if num_a==num_b:\n",
    "    print('두 값이 일치합니다.')"
   ]
  },
  {
   "cell_type": "code",
   "execution_count": 15,
   "id": "64323afc",
   "metadata": {},
   "outputs": [
    {
     "name": "stdout",
     "output_type": "stream",
     "text": [
      "정수를 입력하세요 :75\n",
      "n = 75\n"
     ]
    }
   ],
   "source": [
    "#3.-2.1\n",
    "n=int(input('정수를 입력하세요 :')) #1<=n<=100\n",
    "print('n =',n)\n",
    "if n%2==0:\n",
    "    print(n,'은(는) 짝수입니다.')"
   ]
  },
  {
   "cell_type": "code",
   "execution_count": 17,
   "id": "8e89ae29",
   "metadata": {},
   "outputs": [
    {
     "name": "stdout",
     "output_type": "stream",
     "text": [
      "정수를 입력하세요:-10\n",
      "x= -10\n"
     ]
    }
   ],
   "source": [
    "#3.-12.2\n",
    "x=int(input('정수를 입력하세요:'))\n",
    "print('x=',x)\n",
    "if x>0:\n",
    "    print(x,'은(는) 자연수입니다.')"
   ]
  },
  {
   "cell_type": "code",
   "execution_count": 19,
   "id": "2451993c",
   "metadata": {},
   "outputs": [
    {
     "name": "stdout",
     "output_type": "stream",
     "text": [
      "게임점수를 입력하세요 :1300\n",
      "game_score= 1300\n",
      "고수입니다.\n"
     ]
    }
   ],
   "source": [
    "#3.-3.1\n",
    "game_score=int(input('게임점수를 입력하세요 :'))\n",
    "print('game_score=',game_score)\n",
    "if game_score>=1000:\n",
    "    print('고수입니다.')\n",
    "else:\n",
    "    print('입문자입니다.')"
   ]
  },
  {
   "cell_type": "code",
   "execution_count": 24,
   "id": "1831bf0a",
   "metadata": {},
   "outputs": [
    {
     "name": "stdout",
     "output_type": "stream",
     "text": [
      "한 정수를 입력하세요:300\n",
      "다른 정수를 입력하세요:300\n",
      "두 값이 일치합니다.\n"
     ]
    }
   ],
   "source": [
    "#3.-3.2\n",
    "a=int(input('한 정수를 입력하세요:'))\n",
    "b=int(input('다른 정수를 입력하세요:'))\n",
    "if a==b:\n",
    "    print('두 값이 일치합니다.')\n",
    "else:\n",
    "    print('두 값이 일치하지 않습니다')"
   ]
  },
  {
   "cell_type": "code",
   "execution_count": 25,
   "id": "60efac18",
   "metadata": {},
   "outputs": [
    {
     "name": "stdout",
     "output_type": "stream",
     "text": [
      "당신은 성인인가요(성인이면 1,미성년이면 0):0\n",
      "당신은 미성년자입니다.\n"
     ]
    }
   ],
   "source": [
    "#3.-3.3(1)\n",
    "a=int(input('당신은 성인인가요(성인이면 1,미성년이면 0):'))\n",
    "if a==0:\n",
    "    print('당신은 미성년자입니다.')"
   ]
  },
  {
   "cell_type": "code",
   "execution_count": 26,
   "id": "31389af7",
   "metadata": {},
   "outputs": [
    {
     "name": "stdout",
     "output_type": "stream",
     "text": [
      "당신은 성인인가요(성인이면 1,미성년이면 0):1\n",
      "결혼을 하셨나요(기혼이면 1,미혼이면 0):1\n",
      "당신은 결혼한 성인입니다.\n"
     ]
    }
   ],
   "source": [
    "#3.-3.3(2)\n",
    "a=int(input('당신은 성인인가요(성인이면 1,미성년이면 0):'))\n",
    "if a==0:\n",
    "    print('당신은 미성년자입니다.')\n",
    "else:\n",
    "    b=int(input('결혼을 하셨나요(기혼이면 1,미혼이면 0):'))\n",
    "    if b==1:\n",
    "        print('당신은 결혼한 성인입니다.')\n",
    "    else:\n",
    "        print('당신은 결혼하지 않은 성인입니다.')"
   ]
  },
  {
   "cell_type": "code",
   "execution_count": 27,
   "id": "37580f91",
   "metadata": {},
   "outputs": [
    {
     "data": {
      "text/plain": [
       "True"
      ]
     },
     "execution_count": 27,
     "metadata": {},
     "output_type": "execute_result"
    }
   ],
   "source": [
    "#3.-4.1\n",
    "num=2\n",
    "(num>1)and(num<10)\n",
    "\n"
   ]
  },
  {
   "cell_type": "code",
   "execution_count": 29,
   "id": "904e5c38",
   "metadata": {},
   "outputs": [
    {
     "name": "stdout",
     "output_type": "stream",
     "text": [
      "age= 12\n",
      "청소년입니다.\n"
     ]
    }
   ],
   "source": [
    "#3.-4.2\n",
    "age=12\n",
    "print('age=',age)\n",
    "if (age>10)and(age<19):\n",
    "    print('청소년입니다.')"
   ]
  },
  {
   "cell_type": "code",
   "execution_count": 31,
   "id": "e92e2e83",
   "metadata": {},
   "outputs": [
    {
     "name": "stdout",
     "output_type": "stream",
     "text": [
      "자동차의 속도를 입력하세요(단위 : km/h):130\n",
      "고속\n"
     ]
    }
   ],
   "source": [
    "#3.-5.1\n",
    "speed=int(input('자동차의 속도를 입력하세요(단위 : km/h):'))\n",
    "if speed>=100:\n",
    "    print('고속')\n",
    "elif speed>=60:\n",
    "    print('중속')\n",
    "else:\n",
    "    print('저속')"
   ]
  },
  {
   "cell_type": "code",
   "execution_count": 33,
   "id": "b81fb288",
   "metadata": {},
   "outputs": [
    {
     "name": "stdout",
     "output_type": "stream",
     "text": [
      "미세먼지 농도를 입렵하세요(단위 : km/h):33\n",
      "보통\n"
     ]
    }
   ],
   "source": [
    "#3.-5.2\n",
    "미세먼지_농도=int(input('미세먼지 농도를 입렵하세요(단위 : km/h):'))\n",
    "if 미세먼지_농도>=76:\n",
    "    print('매우 나쁨')\n",
    "elif 미세먼지_농도>=36:\n",
    "    print('나쁨')\n",
    "elif 미세먼지_농도>=16:\n",
    "    print('보통')\n",
    "else:\n",
    "    print('좋음')"
   ]
  },
  {
   "cell_type": "code",
   "execution_count": 34,
   "id": "de34652e",
   "metadata": {},
   "outputs": [
    {
     "name": "stdout",
     "output_type": "stream",
     "text": [
      "Hello, Python!\n",
      "Hello, Python!\n",
      "Hello, Python!\n",
      "Hello, Python!\n",
      "Hello, Python!\n"
     ]
    }
   ],
   "source": [
    "#3.-6.1\n",
    "for _ in range(5):\n",
    "    print('Hello, Python!')"
   ]
  },
  {
   "cell_type": "code",
   "execution_count": 35,
   "id": "dd98198a",
   "metadata": {},
   "outputs": [
    {
     "name": "stdout",
     "output_type": "stream",
     "text": [
      "0\n",
      "1\n",
      "2\n",
      "3\n",
      "4\n"
     ]
    }
   ],
   "source": [
    "#3.-6.2\n",
    "for i in range(5):\n",
    "    print(i)"
   ]
  },
  {
   "cell_type": "code",
   "execution_count": 116,
   "id": "d5d8d905",
   "metadata": {},
   "outputs": [
    {
     "data": {
      "text/plain": [
       "[1,\n",
       " 2,\n",
       " 3,\n",
       " 4,\n",
       " 5,\n",
       " 6,\n",
       " 7,\n",
       " 8,\n",
       " 9,\n",
       " 10,\n",
       " 11,\n",
       " 12,\n",
       " 13,\n",
       " 14,\n",
       " 15,\n",
       " 16,\n",
       " 17,\n",
       " 18,\n",
       " 19,\n",
       " 20,\n",
       " 21,\n",
       " 22,\n",
       " 23,\n",
       " 24,\n",
       " 25,\n",
       " 26,\n",
       " 27,\n",
       " 28,\n",
       " 29,\n",
       " 30,\n",
       " 31,\n",
       " 32,\n",
       " 33,\n",
       " 34,\n",
       " 35,\n",
       " 36,\n",
       " 37,\n",
       " 38,\n",
       " 39,\n",
       " 40,\n",
       " 41,\n",
       " 42,\n",
       " 43,\n",
       " 44,\n",
       " 45,\n",
       " 46,\n",
       " 47,\n",
       " 48,\n",
       " 49,\n",
       " 50,\n",
       " 51,\n",
       " 52,\n",
       " 53,\n",
       " 54,\n",
       " 55,\n",
       " 56,\n",
       " 57,\n",
       " 58,\n",
       " 59,\n",
       " 60,\n",
       " 61,\n",
       " 62,\n",
       " 63,\n",
       " 64,\n",
       " 65,\n",
       " 66,\n",
       " 67,\n",
       " 68,\n",
       " 69,\n",
       " 70,\n",
       " 71,\n",
       " 72,\n",
       " 73,\n",
       " 74,\n",
       " 75,\n",
       " 76,\n",
       " 77,\n",
       " 78,\n",
       " 79,\n",
       " 80,\n",
       " 81,\n",
       " 82,\n",
       " 83,\n",
       " 84,\n",
       " 85,\n",
       " 86,\n",
       " 87,\n",
       " 88,\n",
       " 89,\n",
       " 90,\n",
       " 91,\n",
       " 92,\n",
       " 93,\n",
       " 94,\n",
       " 95,\n",
       " 96,\n",
       " 97,\n",
       " 98,\n",
       " 99,\n",
       " 100]"
      ]
     },
     "execution_count": 116,
     "metadata": {},
     "output_type": "execute_result"
    }
   ],
   "source": [
    "#3.-7.1\n",
    "list(range(1,101),)"
   ]
  },
  {
   "cell_type": "code",
   "execution_count": 45,
   "id": "586bdf6d",
   "metadata": {},
   "outputs": [
    {
     "data": {
      "text/plain": [
       "[2,\n",
       " 4,\n",
       " 6,\n",
       " 8,\n",
       " 10,\n",
       " 12,\n",
       " 14,\n",
       " 16,\n",
       " 18,\n",
       " 20,\n",
       " 22,\n",
       " 24,\n",
       " 26,\n",
       " 28,\n",
       " 30,\n",
       " 32,\n",
       " 34,\n",
       " 36,\n",
       " 38,\n",
       " 40,\n",
       " 42,\n",
       " 44,\n",
       " 46,\n",
       " 48,\n",
       " 50,\n",
       " 52,\n",
       " 54,\n",
       " 56,\n",
       " 58,\n",
       " 60,\n",
       " 62,\n",
       " 64,\n",
       " 66,\n",
       " 68,\n",
       " 70,\n",
       " 72,\n",
       " 74,\n",
       " 76,\n",
       " 78,\n",
       " 80,\n",
       " 82,\n",
       " 84,\n",
       " 86,\n",
       " 88,\n",
       " 90,\n",
       " 92,\n",
       " 94,\n",
       " 96,\n",
       " 98,\n",
       " 100]"
      ]
     },
     "execution_count": 45,
     "metadata": {},
     "output_type": "execute_result"
    }
   ],
   "source": [
    "#3.-7.2\n",
    "list(range(2,101,2))"
   ]
  },
  {
   "cell_type": "code",
   "execution_count": 47,
   "id": "8ccfdb25",
   "metadata": {},
   "outputs": [
    {
     "data": {
      "text/plain": [
       "[1,\n",
       " 3,\n",
       " 5,\n",
       " 7,\n",
       " 9,\n",
       " 11,\n",
       " 13,\n",
       " 15,\n",
       " 17,\n",
       " 19,\n",
       " 21,\n",
       " 23,\n",
       " 25,\n",
       " 27,\n",
       " 29,\n",
       " 31,\n",
       " 33,\n",
       " 35,\n",
       " 37,\n",
       " 39,\n",
       " 41,\n",
       " 43,\n",
       " 45,\n",
       " 47,\n",
       " 49,\n",
       " 51,\n",
       " 53,\n",
       " 55,\n",
       " 57,\n",
       " 59,\n",
       " 61,\n",
       " 63,\n",
       " 65,\n",
       " 67,\n",
       " 69,\n",
       " 71,\n",
       " 73,\n",
       " 75,\n",
       " 77,\n",
       " 79,\n",
       " 81,\n",
       " 83,\n",
       " 85,\n",
       " 87,\n",
       " 89,\n",
       " 91,\n",
       " 93,\n",
       " 95,\n",
       " 97,\n",
       " 99]"
      ]
     },
     "execution_count": 47,
     "metadata": {},
     "output_type": "execute_result"
    }
   ],
   "source": [
    "#3.-7.3\n",
    "list(range(1,101,2))"
   ]
  },
  {
   "cell_type": "code",
   "execution_count": 50,
   "id": "fd989932",
   "metadata": {},
   "outputs": [
    {
     "data": {
      "text/plain": [
       "[-100,\n",
       " -99,\n",
       " -98,\n",
       " -97,\n",
       " -96,\n",
       " -95,\n",
       " -94,\n",
       " -93,\n",
       " -92,\n",
       " -91,\n",
       " -90,\n",
       " -89,\n",
       " -88,\n",
       " -87,\n",
       " -86,\n",
       " -85,\n",
       " -84,\n",
       " -83,\n",
       " -82,\n",
       " -81,\n",
       " -80,\n",
       " -79,\n",
       " -78,\n",
       " -77,\n",
       " -76,\n",
       " -75,\n",
       " -74,\n",
       " -73,\n",
       " -72,\n",
       " -71,\n",
       " -70,\n",
       " -69,\n",
       " -68,\n",
       " -67,\n",
       " -66,\n",
       " -65,\n",
       " -64,\n",
       " -63,\n",
       " -62,\n",
       " -61,\n",
       " -60,\n",
       " -59,\n",
       " -58,\n",
       " -57,\n",
       " -56,\n",
       " -55,\n",
       " -54,\n",
       " -53,\n",
       " -52,\n",
       " -51,\n",
       " -50,\n",
       " -49,\n",
       " -48,\n",
       " -47,\n",
       " -46,\n",
       " -45,\n",
       " -44,\n",
       " -43,\n",
       " -42,\n",
       " -41,\n",
       " -40,\n",
       " -39,\n",
       " -38,\n",
       " -37,\n",
       " -36,\n",
       " -35,\n",
       " -34,\n",
       " -33,\n",
       " -32,\n",
       " -31,\n",
       " -30,\n",
       " -29,\n",
       " -28,\n",
       " -27,\n",
       " -26,\n",
       " -25,\n",
       " -24,\n",
       " -23,\n",
       " -22,\n",
       " -21,\n",
       " -20,\n",
       " -19,\n",
       " -18,\n",
       " -17,\n",
       " -16,\n",
       " -15,\n",
       " -14,\n",
       " -13,\n",
       " -12,\n",
       " -11,\n",
       " -10,\n",
       " -9,\n",
       " -8,\n",
       " -7,\n",
       " -6,\n",
       " -5,\n",
       " -4,\n",
       " -3,\n",
       " -2,\n",
       " -1]"
      ]
     },
     "execution_count": 50,
     "metadata": {},
     "output_type": "execute_result"
    }
   ],
   "source": [
    "#3.-7.4\n",
    "list(range(-100,0))"
   ]
  },
  {
   "cell_type": "code",
   "execution_count": 58,
   "id": "a6a41059",
   "metadata": {
    "scrolled": false
   },
   "outputs": [
    {
     "name": "stdout",
     "output_type": "stream",
     "text": [
      "1에서 100까지 정수의 합: 5050\n"
     ]
    }
   ],
   "source": [
    "#3-8.1\n",
    "s=0\n",
    "for i in range(1,101):\n",
    "    s=s+i\n",
    "print('1에서 100까지 정수의 합:',s)"
   ]
  },
  {
   "cell_type": "code",
   "execution_count": 59,
   "id": "866fd571",
   "metadata": {},
   "outputs": [
    {
     "name": "stdout",
     "output_type": "stream",
     "text": [
      "1에서 100까지 짝수의 정수의 합 : 2550\n"
     ]
    }
   ],
   "source": [
    "#3-8.2\n",
    "s=0\n",
    "for i in range(0,101,2):\n",
    "    s=s+i\n",
    "print('1에서 100까지 짝수의 정수의 합 :',s)"
   ]
  },
  {
   "cell_type": "code",
   "execution_count": 60,
   "id": "8c91f552",
   "metadata": {},
   "outputs": [
    {
     "name": "stdout",
     "output_type": "stream",
     "text": [
      "1에서 100까지 홀수의 정수의 합 : 2500\n"
     ]
    }
   ],
   "source": [
    "#3-8.3\n",
    "s=0\n",
    "for i in range(1,101,2):\n",
    "    s=s+i\n",
    "print('1에서 100까지 홀수의 정수의 합 :',s)"
   ]
  },
  {
   "cell_type": "code",
   "execution_count": 70,
   "id": "163950df",
   "metadata": {},
   "outputs": [
    {
     "name": "stdout",
     "output_type": "stream",
     "text": [
      "#\n",
      " #\n",
      "  #\n",
      "   #\n",
      "    #\n",
      "     #\n",
      "      #\n"
     ]
    }
   ],
   "source": [
    "n=7\n",
    "for i in range(n):\n",
    "    st=''\n",
    "    for j in range(i):\n",
    "        st=st+' '\n",
    "    print(st+'#')"
   ]
  },
  {
   "cell_type": "code",
   "execution_count": 84,
   "id": "ec6cc180",
   "metadata": {},
   "outputs": [
    {
     "name": "stdout",
     "output_type": "stream",
     "text": [
      "       #\n",
      "      #\n",
      "     #\n",
      "    #\n",
      "   #\n",
      "  #\n",
      " #\n"
     ]
    }
   ],
   "source": [
    "#3-9.1\n",
    "n=[7,6,5,4,3,2,1]\n",
    "for i in n:\n",
    "    st=''\n",
    "    for j in range(i):\n",
    "        st=st+' '\n",
    "    print(st+'#')"
   ]
  },
  {
   "cell_type": "code",
   "execution_count": null,
   "id": "511f12ce",
   "metadata": {},
   "outputs": [],
   "source": []
  },
  {
   "cell_type": "code",
   "execution_count": null,
   "id": "b4f88627",
   "metadata": {},
   "outputs": [],
   "source": []
  },
  {
   "cell_type": "code",
   "execution_count": null,
   "id": "bfe5d3d1",
   "metadata": {},
   "outputs": [],
   "source": []
  },
  {
   "cell_type": "code",
   "execution_count": null,
   "id": "7065cb7e",
   "metadata": {},
   "outputs": [],
   "source": []
  }
 ],
 "metadata": {
  "kernelspec": {
   "display_name": "Python 3 (ipykernel)",
   "language": "python",
   "name": "python3"
  },
  "language_info": {
   "codemirror_mode": {
    "name": "ipython",
    "version": 3
   },
   "file_extension": ".py",
   "mimetype": "text/x-python",
   "name": "python",
   "nbconvert_exporter": "python",
   "pygments_lexer": "ipython3",
   "version": "3.9.12"
  }
 },
 "nbformat": 4,
 "nbformat_minor": 5
}
