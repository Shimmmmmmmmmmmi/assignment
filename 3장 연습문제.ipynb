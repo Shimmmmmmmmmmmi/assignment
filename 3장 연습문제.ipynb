{
 "cells": [
  {
   "cell_type": "code",
   "execution_count": 3,
   "id": "e6052f66",
   "metadata": {},
   "outputs": [
    {
     "name": "stdout",
     "output_type": "stream",
     "text": [
      "이름을 입력하시오 :승주\n",
      "키를 입력하시오(단위: cm):132\n",
      "승주 님은 놀이기구를 탈 수 없습니다.\n"
     ]
    }
   ],
   "source": [
    "#3.2\n",
    "name=input('이름을 입력하시오 :')\n",
    "height=int(input('키를 입력하시오(단위: cm):'))\n",
    "if height<=140:\n",
    "    print(name,'님은 놀이기구를 탈 수 없습니다.')\n",
    "else:\n",
    "    print(name,'님은 놀이기구를 탈 수 있습니다.')"
   ]
  },
  {
   "cell_type": "code",
   "execution_count": 6,
   "id": "e8870faf",
   "metadata": {},
   "outputs": [
    {
     "name": "stdout",
     "output_type": "stream",
     "text": [
      "나이를 입력하시오 :16\n",
      "키를 입력하시오(단위 : cm) :162\n",
      "입장할 수 없습니다.\n"
     ]
    }
   ],
   "source": [
    "#3.3\n",
    "age=int(input('나이를 입력하시오 :'))\n",
    "height=int(input('키를 입력하시오(단위 : cm) :'))\n",
    "if (age>=19)and(height>150):\n",
    "    print('입장할 수 있습니다.')\n",
    "else:\n",
    "    print('입장할 수 없습니다.')"
   ]
  },
  {
   "cell_type": "code",
   "execution_count": 9,
   "id": "fb5dbc91",
   "metadata": {},
   "outputs": [
    {
     "name": "stdout",
     "output_type": "stream",
     "text": [
      "나이를 입력하시오 :9\n",
      "Kid\n"
     ]
    }
   ],
   "source": [
    "#3.4\n",
    "age=int(input('나이를 입력하시오 :'))\n",
    "if age>=20:\n",
    "    print('Adult')\n",
    "elif age>=10:\n",
    "    print('Youth')\n",
    "else:\n",
    "    print('Kid')"
   ]
  },
  {
   "cell_type": "code",
   "execution_count": 1,
   "id": "b50f55a8",
   "metadata": {},
   "outputs": [
    {
     "name": "stdout",
     "output_type": "stream",
     "text": [
      "99\n",
      "12\n",
      "두 정수를 입력하시오 :99 12\n",
      "12 99\n"
     ]
    }
   ],
   "source": [
    "#3.5\n",
    "n=int(input())\n",
    "m=int(input())\n",
    "print('두 정수를 입력하시오 :{} {}'.format(n,m))\n",
    "if n>m:\n",
    "    print(m,n)\n",
    "else:\n",
    "    print(n,m)"
   ]
  },
  {
   "cell_type": "code",
   "execution_count": null,
   "id": "178084ca",
   "metadata": {},
   "outputs": [],
   "source": [
    "#3.6"
   ]
  },
  {
   "cell_type": "code",
   "execution_count": 4,
   "id": "ed3197bb",
   "metadata": {},
   "outputs": [
    {
     "name": "stdout",
     "output_type": "stream",
     "text": [
      "게임점수를 입력하시오 :990\n",
      "입문자입니다.\n"
     ]
    }
   ],
   "source": [
    "#3.7\n",
    "game_score=int(input('게임점수를 입력하시오 :'))\n",
    "if game_score<1000:\n",
    "    print('입문자입니다.')\n",
    "else:\n",
    "    print('고수입니다.')"
   ]
  },
  {
   "cell_type": "code",
   "execution_count": null,
   "id": "e0a8288c",
   "metadata": {},
   "outputs": [],
   "source": [
    "#3.8\n"
   ]
  },
  {
   "cell_type": "code",
   "execution_count": 13,
   "id": "4c35a33c",
   "metadata": {},
   "outputs": [
    {
     "name": "stdout",
     "output_type": "stream",
     "text": [
      "정수를 입력하시오 :12\n",
      "12는(은) 2(으)로 나누어집니다\n",
      "12는(은) 3(으)로 나누어집니다\n",
      "12는(은) 2와(과) 3 모두로 나누어집니다.\n"
     ]
    }
   ],
   "source": [
    "#3.9\n",
    "n=int(input('정수를 입력하시오 :'))\n",
    "if n%2!=0:\n",
    "    print('{}는(은) 2(으)로 나누어지지 않습니다.'.format(n))\n",
    "else:\n",
    "    print('{}는(은) 2(으)로 나누어집니다'.format(n))\n",
    "if n%3!=0:\n",
    "    print('{}는(은) 3(으)로 나누어지지 않습니다.'.format(n))\n",
    "else:\n",
    "    print('{}는(은) 3(으)로 나누어집니다'.format(n))\n",
    "if (n%3==0)and(n%2==0):\n",
    "    print('{}는(은) 2와(과) 3 모두로 나누어집니다.'.format(n))\n",
    "else:\n",
    "    print('{}는(은) 2와(과) 3 모두로 나누어지지 않습니다.'.format(n))"
   ]
  },
  {
   "cell_type": "code",
   "execution_count": 24,
   "id": "2e760e56",
   "metadata": {},
   "outputs": [
    {
     "name": "stdout",
     "output_type": "stream",
     "text": [
      "알파벳을 입력하시오 :t\n",
      "t 은(는) 자음입니다.\n"
     ]
    }
   ],
   "source": [
    "#3.14\n",
    "st=input('알파벳을 입력하시오 :')\n",
    "if st=='a':\n",
    "    print(st,'은(는) 모음입니다.')\n",
    "elif st=='e':\n",
    "    print(st,'은(는) 모음입니다.')\n",
    "elif st=='i':\n",
    "    print(st,'은(는) 모음입니다.')\n",
    "elif st=='o':\n",
    "    print(st,'은(는) 모음입니다.')\n",
    "elif st=='u':\n",
    "    print(st,'은(는) 모음입니다.')\n",
    "else:\n",
    "    print(st,'은(는) 자음입니다.')\n"
   ]
  },
  {
   "cell_type": "code",
   "execution_count": 8,
   "id": "1ed402ea",
   "metadata": {},
   "outputs": [
    {
     "name": "stdout",
     "output_type": "stream",
     "text": [
      "2*1= 2\n",
      "2*2= 4\n",
      "2*3= 6\n",
      "2*4= 8\n",
      "2*5= 10\n",
      "2*6= 12\n",
      "2*7= 14\n",
      "2*8= 16\n",
      "2*9= 18\n"
     ]
    }
   ],
   "source": [
    "#3.15\n",
    "for i in range(1,10):\n",
    "    print('2*{}='.format(i),2*i)"
   ]
  },
  {
   "cell_type": "code",
   "execution_count": 4,
   "id": "ffa8a7f9",
   "metadata": {},
   "outputs": [
    {
     "name": "stdout",
     "output_type": "stream",
     "text": [
      "2*1= 2\n",
      "2*2= 4\n",
      "2*3= 6\n",
      "2*4= 8\n",
      "2*5= 10\n",
      "2*6= 12\n",
      "2*7= 14\n",
      "2*8= 16\n",
      "2*9= 18\n"
     ]
    }
   ],
   "source": [
    "#3.15\n",
    "s=1\n",
    "while s<10:\n",
    "    print('2*{}='.format(s),2*s)\n",
    "    s=s+1   "
   ]
  },
  {
   "cell_type": "code",
   "execution_count": 2,
   "id": "40416df9",
   "metadata": {},
   "outputs": [
    {
     "name": "stdout",
     "output_type": "stream",
     "text": [
      "1에서 9까지의 수를 입력하세요 :8\n",
      "8*1= 8\n",
      "8*2= 16\n",
      "8*3= 24\n",
      "8*4= 32\n",
      "8*5= 40\n",
      "8*6= 48\n",
      "8*7= 56\n",
      "8*8= 64\n",
      "8*9= 72\n"
     ]
    }
   ],
   "source": [
    "#3.16\n",
    "n=int(input('1에서 9까지의 수를 입력하세요 :'))\n",
    "while (n>9) or (n<1):\n",
    "    n=int(input('1에서 9까지의 수를 다시 입력하세요 :'))\n",
    "\n",
    "for i in range(1,10):\n",
    "    print('{}*{}='.format(n,i),n*i)\n",
    "          "
   ]
  },
  {
   "cell_type": "code",
   "execution_count": 3,
   "id": "6a9102cf",
   "metadata": {},
   "outputs": [
    {
     "name": "stdout",
     "output_type": "stream",
     "text": [
      "1에서 9까지의 수를 입력하세요 :10\n",
      "1에서 9까지의 수를 다시 입력하세요 :20\n",
      "1에서 9까지의 수를 다시 입력하세요 :6\n",
      "6*1= 6\n",
      "6*2= 12\n",
      "6*3= 18\n",
      "6*4= 24\n",
      "6*5= 30\n",
      "6*6= 36\n",
      "6*7= 42\n",
      "6*8= 48\n",
      "6*9= 54\n"
     ]
    }
   ],
   "source": [
    "#3.16\n",
    "n=int(input('1에서 9까지의 수를 입력하세요 :'))\n",
    "while (n>9) or (n<1):\n",
    "    n=int(input('1에서 9까지의 수를 다시 입력하세요 :'))\n",
    "s=1\n",
    "while s<10:\n",
    "    print('{}*{}='.format(n,s),n*s)\n",
    "    s=s+1\n"
   ]
  },
  {
   "cell_type": "code",
   "execution_count": 6,
   "id": "4ff5b77a",
   "metadata": {},
   "outputs": [
    {
     "name": "stdout",
     "output_type": "stream",
     "text": [
      "Python \n",
      "is \n",
      "FUN!\n",
      "Python \n",
      "is \n",
      "FUN!\n",
      "Python \n",
      "is \n",
      "FUN!\n"
     ]
    }
   ],
   "source": [
    "#3.17\n",
    "for i in range(3):\n",
    "    print('Python ')\n",
    "    print('is ')\n",
    "    print('FUN!')\n"
   ]
  },
  {
   "cell_type": "code",
   "execution_count": 8,
   "id": "f98094ab",
   "metadata": {},
   "outputs": [
    {
     "name": "stdout",
     "output_type": "stream",
     "text": [
      "Python \n",
      "is \n",
      "Python \n",
      "is \n",
      "Python \n",
      "is \n",
      "FUN! \n"
     ]
    }
   ],
   "source": [
    "#3.17\n",
    "for i in range(3):\n",
    "    print('Python ')\n",
    "    print('is ')\n",
    "print('FUN! ')"
   ]
  },
  {
   "cell_type": "code",
   "execution_count": 9,
   "id": "b0d9fbda",
   "metadata": {},
   "outputs": [
    {
     "name": "stdout",
     "output_type": "stream",
     "text": [
      "Python \n",
      "Python \n",
      "Python \n",
      "is \n",
      "FUN!\n"
     ]
    }
   ],
   "source": [
    "#3.17\n",
    "for i in range(3):\n",
    "    print('Python ')\n",
    "print('is ')\n",
    "print('FUN!')"
   ]
  },
  {
   "cell_type": "code",
   "execution_count": 4,
   "id": "fcfff427",
   "metadata": {},
   "outputs": [
    {
     "name": "stdout",
     "output_type": "stream",
     "text": [
      "맛나 식당에 오신 것을 환영합니다. 메뉴는 다음과 같습니다.\n",
      "1) 햄버거\n",
      "2) 치킨\n",
      "3) 피자\n",
      "1에서 3까지의 메뉴를 선택하세요:6\n",
      "메뉴를 다시 입력하세요 :2\n",
      "치킨을 선택하였습니다.\n"
     ]
    }
   ],
   "source": [
    "#3.18\n",
    "print('맛나 식당에 오신 것을 환영합니다. 메뉴는 다음과 같습니다.')\n",
    "print('1) 햄버거\\n2) 치킨\\n3) 피자')\n",
    "menu=int(input('1에서 3까지의 메뉴를 선택하세요:'))\n",
    "while (menu>3) or (menu<1):\n",
    "    menu=int(input('메뉴를 다시 입력하세요 :'))\n",
    "if menu==1:\n",
    "    print('햄버거를 선택하였습니다.')\n",
    "elif menu==2:\n",
    "    print('치킨을 선택하였습니다.')\n",
    "else:\n",
    "    print('피자를 선택하였습니다.')"
   ]
  },
  {
   "cell_type": "code",
   "execution_count": 38,
   "id": "f528b81d",
   "metadata": {},
   "outputs": [
    {
     "name": "stdout",
     "output_type": "stream",
     "text": [
      "맛나 식당에 오신 것을 환영합니다. 메뉴는 다음과 같습니다.\n",
      "-햄버거(입력 b)\n",
      "-치킨(입력 c)\n",
      "-피자(입력 p)\n",
      "메뉴를 선택하세요(알파벳 b,c,p 입력):f\n",
      "메뉴를 다시 입력하세요(알파벳 b,c,p 입력):l\n",
      "메뉴를 다시 입력하세요(알파벳 b,c,p 입력):c\n",
      "치킨을 선택하였습니다.\n"
     ]
    }
   ],
   "source": [
    "#3.19\n",
    "print('맛나 식당에 오신 것을 환영합니다. 메뉴는 다음과 같습니다.')\n",
    "print('-햄버거(입력 b)\\n-치킨(입력 c)\\n-피자(입력 p)')\n",
    "menu=input('메뉴를 선택하세요(알파벳 b,c,p 입력):')\n",
    "while (menu!='b') and (menu!='c') and (menu!='p'):\n",
    "    menu=input('메뉴를 다시 입력하세요(알파벳 b,c,p 입력):')\n",
    "if menu=='b':\n",
    "    print('햄버거를 선택하였습니다.')\n",
    "elif menu=='c':\n",
    "    print('치킨을 선택하였습니다.')\n",
    "else:\n",
    "    print('피자를 선택하였습니다.')"
   ]
  },
  {
   "cell_type": "code",
   "execution_count": 13,
   "id": "af1095a9",
   "metadata": {},
   "outputs": [
    {
     "name": "stdout",
     "output_type": "stream",
     "text": [
      "숫자를 입력하세요 :9\n",
      "        *\n",
      "       **\n",
      "      ***\n",
      "     ****\n",
      "    *****\n",
      "   ******\n",
      "  *******\n",
      " ********\n",
      "*********\n"
     ]
    }
   ],
   "source": [
    "#3.20\n",
    "n=int(input('숫자를 입력하세요 :'))\n",
    "for i in range(1,n+1):\n",
    "    for j in range(n-i):\n",
    "        print(' ',end='')\n",
    "    print('*'*i)"
   ]
  },
  {
   "cell_type": "code",
   "execution_count": 98,
   "id": "30abeb46",
   "metadata": {},
   "outputs": [
    {
     "name": "stdout",
     "output_type": "stream",
     "text": [
      "숫자를 입력하세요 :19\n",
      "19는 소수입니다.\n"
     ]
    }
   ],
   "source": [
    "#3.21\n",
    "n=int(input('숫자를 입력하세요 :'))\n",
    "if n%2 !=0:\n",
    "    for i in range(3,n,2):\n",
    "        if n%i==0:\n",
    "            print('{}는 소수가 아닙니다.'.format(n))\n",
    "            break\n",
    "        elif n%i !=0:\n",
    "            print('{}는 소수입니다.'.format(n))\n",
    "            break\n",
    "else:\n",
    "    print('{}는 소수가 아닙니다.'.format(n))"
   ]
  },
  {
   "cell_type": "code",
   "execution_count": 68,
   "id": "376e3215",
   "metadata": {},
   "outputs": [
    {
     "name": "stdout",
     "output_type": "stream",
     "text": [
      "숫자를 입력하세요:5\n",
      "결과는 55입니다.\n"
     ]
    }
   ],
   "source": [
    "#3.23\n",
    "s=0\n",
    "n=int(input('숫자를 입력하세요:'))\n",
    "for i in range(1,n+1):\n",
    "    s=s+i**2\n",
    "print('결과는 {}입니다.'.format(s))"
   ]
  },
  {
   "cell_type": "code",
   "execution_count": 39,
   "id": "f08bd07d",
   "metadata": {},
   "outputs": [
    {
     "name": "stdout",
     "output_type": "stream",
     "text": [
      "숫자를 입력하세요:100\n",
      "결과는 1.6349839001848923입니다.\n"
     ]
    }
   ],
   "source": [
    "#3.24\n",
    "s=0\n",
    "n=int(input('숫자를 입력하세요:'))\n",
    "for i in range(1,n+1):\n",
    "    s=s+1/i**2\n",
    "print('결과는 {}입니다.'.format(s))"
   ]
  },
  {
   "cell_type": "code",
   "execution_count": null,
   "id": "a21c821a",
   "metadata": {},
   "outputs": [],
   "source": []
  }
 ],
 "metadata": {
  "kernelspec": {
   "display_name": "Python 3 (ipykernel)",
   "language": "python",
   "name": "python3"
  },
  "language_info": {
   "codemirror_mode": {
    "name": "ipython",
    "version": 3
   },
   "file_extension": ".py",
   "mimetype": "text/x-python",
   "name": "python",
   "nbconvert_exporter": "python",
   "pygments_lexer": "ipython3",
   "version": "3.9.12"
  }
 },
 "nbformat": 4,
 "nbformat_minor": 5
}
