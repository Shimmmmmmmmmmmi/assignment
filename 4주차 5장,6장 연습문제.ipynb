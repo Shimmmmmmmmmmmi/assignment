{
 "cells": [
  {
   "cell_type": "code",
   "execution_count": 14,
   "id": "25475aaf",
   "metadata": {},
   "outputs": [
    {
     "data": {
      "text/plain": [
       "7"
      ]
     },
     "execution_count": 14,
     "metadata": {},
     "output_type": "execute_result"
    }
   ],
   "source": [
    "#5-1\n",
    "list_ex=[10,20,30,40,50,60,70]\n",
    "high=5\n",
    "low=3\n",
    "list_ex[2*3]\n",
    "list_ex[low+2]\n",
    "list_ex[high-low]\n",
    "list_ex[low-high]\n",
    "list_ex[-1]\n",
    "list_ex[-low]\n",
    "list_ex[2*3]\n",
    "list_ex[2]*3\n",
    "list_ex[5%4]\n",
    "len(list_ex)"
   ]
  },
  {
   "cell_type": "code",
   "execution_count": 18,
   "id": "5ba064ff",
   "metadata": {},
   "outputs": [
    {
     "data": {
      "text/plain": [
       "['s', 'w', 'e', 'a', 'r', 's', 'w', 'e', 'a', 'r']"
      ]
     },
     "execution_count": 18,
     "metadata": {},
     "output_type": "execute_result"
    }
   ],
   "source": [
    "#5-2\n",
    "spell=['s','w','e','e','t']\n",
    "spell\n",
    "spell[3]='a'\n",
    "spell\n",
    "spell[4]='r'\n",
    "spell\n",
    "spell*2"
   ]
  },
  {
   "cell_type": "code",
   "execution_count": 20,
   "id": "7a9edf9b",
   "metadata": {},
   "outputs": [
    {
     "name": "stdout",
     "output_type": "stream",
     "text": [
      "3*2= 6\n",
      "3*3= 9\n",
      "3*4= 12\n",
      "3*5= 15\n",
      "3*6= 18\n",
      "5*2= 10\n",
      "5*3= 15\n",
      "5*4= 20\n",
      "5*5= 25\n",
      "5*6= 30\n",
      "7*2= 14\n",
      "7*3= 21\n",
      "7*4= 28\n",
      "7*5= 35\n",
      "7*6= 42\n"
     ]
    }
   ],
   "source": [
    "#5-3\n",
    "list1=[3,5,7]\n",
    "list2=[2,3,4,5,6]\n",
    "for i in list1:\n",
    "    for j in list2:\n",
    "        print('{}*{}='.format(i,j),i*j)"
   ]
  },
  {
   "cell_type": "code",
   "execution_count": 59,
   "id": "2fcbd7c8",
   "metadata": {},
   "outputs": [
    {
     "name": "stdout",
     "output_type": "stream",
     "text": [
      "rev_a= [6, 5, 4, 3, 2]\n"
     ]
    }
   ],
   "source": [
    "#5-4\n",
    "a=[2,3,4,5,6]\n",
    "rev_a=[]\n",
    "list=len(a)\n",
    "for i in range(list):\n",
    "    rev_a.append(a.pop())\n",
    "print('rev_a=',rev_a)"
   ]
  },
  {
   "cell_type": "code",
   "execution_count": 44,
   "id": "36b6279d",
   "metadata": {},
   "outputs": [
    {
     "name": "stdout",
     "output_type": "stream",
     "text": [
      "I like pancakes.\n",
      "I like kiwi juice.\n",
      "I like espresso.\n",
      "I love pancakes.\n",
      "I love kiwi juice.\n",
      "I love espresso.\n"
     ]
    }
   ],
   "source": [
    "#5-5\n",
    "list1=['I like','I love']\n",
    "list2=['pancakes.','kiwi juice.','espresso.']\n",
    "print(list1[0],list2[0])\n",
    "print(list1[0],list2[1])\n",
    "print(list1[0],list2[2])\n",
    "print(list1[1],list2[0])\n",
    "print(list1[1],list2[1])\n",
    "print(list1[1],list2[2])"
   ]
  },
  {
   "cell_type": "code",
   "execution_count": 51,
   "id": "5b2dc8a0",
   "metadata": {},
   "outputs": [
    {
     "data": {
      "text/plain": [
       "[1, 2, 3, 4]"
      ]
     },
     "execution_count": 51,
     "metadata": {},
     "output_type": "execute_result"
    }
   ],
   "source": [
    "#5-6\n",
    "list1=[2,3,4,1,32]\n",
    "max(list1)\n",
    "sum(list1)\n",
    "list1.remove(32)\n",
    "list1\n",
    "list1.reverse()\n",
    "list1\n",
    "list1.sort()\n",
    "list1"
   ]
  },
  {
   "cell_type": "code",
   "execution_count": 55,
   "id": "9feec6b0",
   "metadata": {},
   "outputs": [
    {
     "name": "stdout",
     "output_type": "stream",
     "text": [
      "리스트 원소들 : [10, 20, 30, 50, 60]\n",
      "리스트 원소들의 합: 170\n"
     ]
    }
   ],
   "source": [
    "#5-7\n",
    "n_list=[10,20,30,50,60]\n",
    "print('리스트 원소들 :',n_list)\n",
    "s=0\n",
    "for i in n_list:\n",
    "    s=s+i\n",
    "print('리스트 원소들의 합:',s)"
   ]
  },
  {
   "cell_type": "code",
   "execution_count": 57,
   "id": "4b8cf4c0",
   "metadata": {},
   "outputs": [
    {
     "name": "stdout",
     "output_type": "stream",
     "text": [
      "리스트 원소들: [10, 20, 30, 50, 60]\n",
      "리스트 원소들의 곱: 18000000\n"
     ]
    }
   ],
   "source": [
    "#5-8\n",
    "n_list=[10,20,30,50,60]\n",
    "s=1\n",
    "for i in n_list:\n",
    "    s=s*i\n",
    "print('리스트 원소들:',n_list)\n",
    "print('리스트 원소들의 곱:', s)"
   ]
  },
  {
   "cell_type": "code",
   "execution_count": 60,
   "id": "9df8452b",
   "metadata": {},
   "outputs": [
    {
     "name": "stdout",
     "output_type": "stream",
     "text": [
      "리스트 원소들: [10, 20, 30, 50, 60]\n",
      "리스트 원소들 중 최댓값: 60\n"
     ]
    }
   ],
   "source": [
    "#5-9\n",
    "n_list=[10,20,30,50,60]\n",
    "n_list.sort()\n",
    "print('리스트 원소들:',n_list)\n",
    "print('리스트 원소들 중 최댓값:', n_list[-1])"
   ]
  },
  {
   "cell_type": "code",
   "execution_count": 62,
   "id": "b1ea9778",
   "metadata": {},
   "outputs": [
    {
     "name": "stdout",
     "output_type": "stream",
     "text": [
      "리스트 원소들: [10, 20, 30, 50, 60]\n",
      "리스트 원소들 중 최솟값: 10\n"
     ]
    }
   ],
   "source": [
    "#5-10\n",
    "n_list=[10,20,30,50,60]\n",
    "n_list.sort()\n",
    "print('리스트 원소들:',n_list)\n",
    "print('리스트 원소들 중 최솟값:', n_list[0])"
   ]
  },
  {
   "cell_type": "code",
   "execution_count": 4,
   "id": "e63256a5",
   "metadata": {},
   "outputs": [
    {
     "name": "stdout",
     "output_type": "stream",
     "text": [
      "5개의 수를 입력하세요:45 67 20 34 2\n",
      "합: 168\n",
      "평균: 33.6\n",
      "최댓값: 67\n",
      "최솟값: 2\n"
     ]
    }
   ],
   "source": [
    "#5-11\n",
    "num1,num2,num3,num4,num5=map(int,input('5개의 수를 입력하세요:').split())\n",
    "list1=[num1,num2,num3,num4,num5]\n",
    "print('합:',sum(list1))\n",
    "print('평균:',sum(list1)/len(list1))\n",
    "print('최댓값:',max(list1))\n",
    "print('최솟값:',min(list1))"
   ]
  },
  {
   "cell_type": "code",
   "execution_count": 8,
   "id": "80043f34",
   "metadata": {},
   "outputs": [
    {
     "name": "stdout",
     "output_type": "stream",
     "text": [
      "n을 입력하세요 :10\n",
      "n개의 수를 입력하세요:34 56 7 9 23 10 2 30 3 28\n",
      "합: 202\n",
      "평균: 20.2\n",
      "최댓값: 56\n",
      "최솟값: 2\n"
     ]
    }
   ],
   "source": [
    "#5-12\n",
    "n=int(input('n을 입력하세요 :'))\n",
    "a=list(map(int,input('n개의 수를 입력하세요:').split()))\n",
    "print('합:',sum(a))\n",
    "print('평균:',sum(a)/n)\n",
    "print('최댓값:',max(a))\n",
    "print('최솟값:',min(a))"
   ]
  },
  {
   "cell_type": "code",
   "execution_count": 22,
   "id": "068fca80",
   "metadata": {},
   "outputs": [
    {
     "name": "stdout",
     "output_type": "stream",
     "text": [
      "n개의 수를 입력하세요:45 67 20 34 2 100 23 45 67 89\n",
      "합: 492\n",
      "평균: 49.2\n",
      "표준편차 : 29.71800800861323\n"
     ]
    }
   ],
   "source": [
    "#5-13\n",
    "a=list(map(int,input('n개의 수를 입력하세요:').split()))\n",
    "print('합:',sum(a))\n",
    "print('평균:',sum(a)/len(a))\n",
    "s=0\n",
    "for i in a:\n",
    "    s=s+(i-sum(a)/len(a))**2\n",
    "    \n",
    "print('표준편차 :',(s/len(a))**0.5 )"
   ]
  },
  {
   "cell_type": "code",
   "execution_count": 28,
   "id": "36b94ca8",
   "metadata": {},
   "outputs": [
    {
     "data": {
      "text/plain": [
       "['h', 'a', 't', 'h', 'd', 'a', 'y']"
      ]
     },
     "execution_count": 28,
     "metadata": {},
     "output_type": "execute_result"
    }
   ],
   "source": [
    "#5-14 \n",
    "spell=list('happy birthday')\n",
    "spell[1:5]\n",
    "spell[:]\n",
    "spell[:5]\n",
    "spell[6:]\n",
    "spell[:2]+spell[9:]"
   ]
  },
  {
   "cell_type": "code",
   "execution_count": 34,
   "id": "4dcf487f",
   "metadata": {},
   "outputs": [
    {
     "data": {
      "text/plain": [
       "'day'"
      ]
     },
     "execution_count": 34,
     "metadata": {},
     "output_type": "execute_result"
    }
   ],
   "source": [
    "#5-15\n",
    "greet='Have a beautiful day.'\n",
    "greet[0:4]\n",
    "greet[7:16]\n",
    "greet[17:20]\n"
   ]
  },
  {
   "cell_type": "code",
   "execution_count": 43,
   "id": "c1788db1",
   "metadata": {},
   "outputs": [
    {
     "data": {
      "text/plain": [
       "False"
      ]
     },
     "execution_count": 43,
     "metadata": {},
     "output_type": "execute_result"
    }
   ],
   "source": [
    "#5-16\n",
    "s='Birthday'\n",
    "s[:5]\n",
    "s[5:]\n",
    "s[1:-1]\n",
    "s[::-1]\n",
    "'day' in s\n",
    "'birth' in s\n",
    "'Birth' in s\n",
    "'Birth' not in s"
   ]
  },
  {
   "cell_type": "code",
   "execution_count": 46,
   "id": "a7499560",
   "metadata": {},
   "outputs": [
    {
     "name": "stdout",
     "output_type": "stream",
     "text": [
      "animal= ['dog', 'cat', 'tiger', 'lion']\n",
      "animal= ['cat', 'tiger', 'lion', 'dog']\n",
      "animal= ['cat', 'tiger', 'lion', 'dog']\n",
      "I love cat\n",
      "I love tiger\n",
      "I love lion\n",
      "I love dog\n"
     ]
    }
   ],
   "source": [
    "#5-17.1\n",
    "animal=['dog','cat','tiger','lion']\n",
    "print('animal=',animal)\n",
    "\n",
    "#5-17.2\n",
    "animal.remove('dog')\n",
    "animal.insert(3,'dog')\n",
    "print('animal=',animal)\n",
    "\n",
    "#5-17.3\n",
    "print('animal=',animal)\n",
    "for i in animal:\n",
    "    print('I love',i)"
   ]
  },
  {
   "cell_type": "code",
   "execution_count": 57,
   "id": "b3ce212a",
   "metadata": {},
   "outputs": [],
   "source": [
    "#5-18.1\n",
    "s_list=['abc','bcd','bcdefg','abba','cddc','opq']\n",
    "\n",
    "#5-18.2\n"
   ]
  },
  {
   "cell_type": "code",
   "execution_count": 52,
   "id": "cdbce99c",
   "metadata": {},
   "outputs": [
    {
     "name": "stdout",
     "output_type": "stream",
     "text": [
      "s_list= ['abc', 'bcd', 'abc', 'abba', 'cddc', 'opq', 'opq']\n",
      "new_list= ['abc', 'bcd', 'abba', 'cddc', 'opq']\n"
     ]
    }
   ],
   "source": [
    "#5-19\n",
    "s_list=['abc','bcd','abc','abba','cddc','opq','opq']\n",
    "new_list=[]\n",
    "for i in s_list:\n",
    "    if i not in new_list:\n",
    "        new_list.append(i)\n",
    "print('s_list=',s_list)\n",
    "print('new_list=',new_list)"
   ]
  },
  {
   "cell_type": "code",
   "execution_count": 58,
   "id": "2465f99a",
   "metadata": {},
   "outputs": [],
   "source": [
    "#5-20\n",
    "src='aaaabbb'\n",
    "\n",
    "\n"
   ]
  },
  {
   "cell_type": "code",
   "execution_count": 66,
   "id": "6b7d4eec",
   "metadata": {},
   "outputs": [
    {
     "name": "stdout",
     "output_type": "stream",
     "text": [
      "이 식당의 메뉴 개수는 3 개 입니다.\n"
     ]
    }
   ],
   "source": [
    "#6.1\n",
    "price={'김밥':5000,'어묵':3000,'떡볶이':2000}\n",
    "price['김밥']\n",
    "price['김밥']=6000\n",
    "price\n",
    "price.values()\n",
    "price.keys()\n",
    "print('이 식당의 메뉴 개수는',len(price),'개 입니다.')"
   ]
  },
  {
   "cell_type": "code",
   "execution_count": 75,
   "id": "14ebecd4",
   "metadata": {},
   "outputs": [
    {
     "name": "stdout",
     "output_type": "stream",
     "text": [
      "순대의 가격은 4500원입니다\n",
      "이 식당의 메뉴 개수는 4개 입니다.\n"
     ]
    }
   ],
   "source": [
    "#6.2\n",
    "price={'김밥':5000,'어묵':3000,'떡볶이':2000}\n",
    "price['순대']=4500\n",
    "price\n",
    "a=price['순대']\n",
    "print('순대의 가격은 {}원입니다'.format(a))\n",
    "n=len(price)\n",
    "print('이 식당의 메뉴 개수는 {}개 입니다.'.format(n))"
   ]
  },
  {
   "cell_type": "code",
   "execution_count": 94,
   "id": "e4a0cf89",
   "metadata": {},
   "outputs": [
    {
     "name": "stdout",
     "output_type": "stream",
     "text": [
      "Americano       가격: 3000\n",
      "Ice Americano   가격: 3500\n",
      "Cappuccino      가격: 4000\n",
      "Caffe Latte     가격: 4500\n",
      "Esspresso       가격: 3600\n",
      "위의 메뉴중 하나를 선택하세요 : Americano\n",
      "Americano는 3000원 입니다. 결제를 부탁합니다.\n"
     ]
    }
   ],
   "source": [
    "#6.3\n",
    "\n",
    "menu={'Americano':3000,'Ice Americano':3500,'Cappuccino':4000,'Caffe Latte':4500,'Esspresso':3600}\n",
    "for key in menu:\n",
    "    print('%-15s'%key, '가격:',menu.get(key))\n",
    "a=input('위의 메뉴중 하나를 선택하세요 : ')\n",
    "if a in menu:\n",
    "    print('{}는 {}원 입니다. 결제를 부탁합니다.'.format(a,menu.get(a)))\n",
    "else:\n",
    "    print('미안합니다. {}는 메뉴에 없습니다.'.format(a))\n",
    "    "
   ]
  },
  {
   "cell_type": "code",
   "execution_count": 101,
   "id": "5bfc3764",
   "metadata": {},
   "outputs": [
    {
     "ename": "TypeError",
     "evalue": "'tuple' object does not support item assignment",
     "output_type": "error",
     "traceback": [
      "\u001b[1;31m---------------------------------------------------------------------------\u001b[0m",
      "\u001b[1;31mTypeError\u001b[0m                                 Traceback (most recent call last)",
      "Input \u001b[1;32mIn [101]\u001b[0m, in \u001b[0;36m<cell line: 4>\u001b[1;34m()\u001b[0m\n\u001b[0;32m      1\u001b[0m \u001b[38;5;66;03m#6.4\u001b[39;00m\n\u001b[0;32m      2\u001b[0m t\u001b[38;5;241m=\u001b[39m(\u001b[38;5;241m10\u001b[39m,\u001b[38;5;241m20\u001b[39m,\u001b[38;5;241m30\u001b[39m,\u001b[38;5;241m40\u001b[39m)\n\u001b[1;32m----> 4\u001b[0m t[\u001b[38;5;241m0\u001b[39m]\u001b[38;5;241m=\u001b[39m\u001b[38;5;241m0\u001b[39m\n",
      "\u001b[1;31mTypeError\u001b[0m: 'tuple' object does not support item assignment"
     ]
    }
   ],
   "source": [
    "#6.4\n",
    "t=(10,20,30,40)\n",
    "\n",
    "t[0]=0\n"
   ]
  },
  {
   "cell_type": "code",
   "execution_count": 107,
   "id": "2a722cdf",
   "metadata": {},
   "outputs": [
    {
     "data": {
      "text/plain": [
       "(60, 50, 40, 30, 20, 10)"
      ]
     },
     "execution_count": 107,
     "metadata": {},
     "output_type": "execute_result"
    }
   ],
   "source": [
    "#6.5\n",
    "t=(10,20,30,40,50,60)\n",
    "t[0]\n",
    "t[0:2]\n",
    "t[1:]\n",
    "t[:3]\n",
    "t[1::2]\n",
    "t[::-1]"
   ]
  },
  {
   "cell_type": "code",
   "execution_count": 115,
   "id": "15bde74c",
   "metadata": {},
   "outputs": [
    {
     "data": {
      "text/plain": [
       "['ad', 'ae', 'bd', 'be', 'cd', 'ce']"
      ]
     },
     "execution_count": 115,
     "metadata": {},
     "output_type": "execute_result"
    }
   ],
   "source": [
    "#6.6\n",
    "t1='a','b','c'\n",
    "t2=('a','b','c')\n",
    "t3=('d','e')\n",
    "t1==t2\n",
    "t2+t3\n",
    "\n",
    "my_list=[]\n",
    "for x in t1:\n",
    "    my_list.append(x)\n",
    "my_list\n",
    "\n",
    "[x for x in t1]\n",
    "\n",
    "my_list=[]\n",
    "for x in t1:\n",
    "    for y in t3:\n",
    "        my_list.append(x+y)\n",
    "my_list\n",
    "\n",
    "[x+y for x in t1 for y in t3]"
   ]
  },
  {
   "cell_type": "code",
   "execution_count": null,
   "id": "5f63b6d5",
   "metadata": {},
   "outputs": [],
   "source": [
    "#6.7\n",
    "매출=(100,121,130,140,120,122,123,190,125)\n",
    "while "
   ]
  },
  {
   "cell_type": "code",
   "execution_count": null,
   "id": "3011b0b6",
   "metadata": {},
   "outputs": [],
   "source": [
    "#6.8\n",
    "tup=(1,2,5,4,3,2,9,1,4,7,8,9,9)\n",
    "dup=set()\n"
   ]
  },
  {
   "cell_type": "code",
   "execution_count": 116,
   "id": "2f87a134",
   "metadata": {},
   "outputs": [
    {
     "name": "stdout",
     "output_type": "stream",
     "text": [
      "주어진 튜플: (1, 2, 5, 4, 3, 2, 1, 4, 7, 8, 9, 9, 3, 7, 3)\n",
      "중복 제거 튜플: (1, 2, 3, 4, 5, 7, 8, 9)\n"
     ]
    }
   ],
   "source": [
    "#6.9\n",
    "t1=(1,2,5,4,3,2,1,4,7,8,9,9,3,7,3)\n",
    "print('주어진 튜플:',t1)\n",
    "t2=set(t1)\n",
    "t3=tuple(t2)\n",
    "print('중복 제거 튜플:',t3)\n"
   ]
  },
  {
   "cell_type": "code",
   "execution_count": 155,
   "id": "3a9ca1d3",
   "metadata": {},
   "outputs": [
    {
     "name": "stdout",
     "output_type": "stream",
     "text": [
      "주어진 튜플은: (1, 2, 5, 4, 3, 2, 1, 4, 7, 8, 9, 9, 3, 7, 3)\n",
      "가장 많이 나타나는 요소는 :\n"
     ]
    }
   ],
   "source": [
    "#6.10\n",
    "t1=(1,2,5,4,3,2,1,4,7,8,9,9,3,7,3)\n",
    "print('주어진 튜플은:',t1)\n",
    "t2=set(t1)\n",
    "t3={}\n",
    "for i in t2:\n",
    "    t3[i]=t1.count(i)\n",
    "\n",
    "print('가장 많이 나타나는 요소는 :',)    #값으로 키 값 찾기.., 어떻게 하지..?"
   ]
  },
  {
   "cell_type": "code",
   "execution_count": null,
   "id": "ada9fd90",
   "metadata": {},
   "outputs": [],
   "source": []
  },
  {
   "cell_type": "code",
   "execution_count": null,
   "id": "a6809590",
   "metadata": {},
   "outputs": [],
   "source": []
  },
  {
   "cell_type": "code",
   "execution_count": null,
   "id": "e4856a98",
   "metadata": {},
   "outputs": [],
   "source": []
  }
 ],
 "metadata": {
  "kernelspec": {
   "display_name": "Python 3 (ipykernel)",
   "language": "python",
   "name": "python3"
  },
  "language_info": {
   "codemirror_mode": {
    "name": "ipython",
    "version": 3
   },
   "file_extension": ".py",
   "mimetype": "text/x-python",
   "name": "python",
   "nbconvert_exporter": "python",
   "pygments_lexer": "ipython3",
   "version": "3.9.12"
  }
 },
 "nbformat": 4,
 "nbformat_minor": 5
}
