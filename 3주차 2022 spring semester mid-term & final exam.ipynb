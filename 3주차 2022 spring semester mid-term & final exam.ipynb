{
 "cells": [
  {
   "cell_type": "code",
   "execution_count": 8,
   "id": "8e71d234",
   "metadata": {},
   "outputs": [
    {
     "name": "stdout",
     "output_type": "stream",
     "text": [
      "섭씨 화씨\n",
      " 0   32.0\n",
      " 5   41.0\n",
      "10   50.0\n",
      "15   59.0\n",
      "20   68.0\n",
      "25   77.0\n",
      "30   86.0\n",
      "35   95.0\n",
      "40   104.0\n",
      "45   113.0\n",
      "50   122.0\n"
     ]
    }
   ],
   "source": [
    "print('섭씨 화씨')\n",
    "for i in range(0,51,5):\n",
    "    print('{:2d}  '.format(i),(9/5)*i+32)"
   ]
  },
  {
   "cell_type": "code",
   "execution_count": 9,
   "id": "162449da",
   "metadata": {},
   "outputs": [
    {
     "name": "stdout",
     "output_type": "stream",
     "text": [
      "2 3\n"
     ]
    }
   ],
   "source": [
    "a=2*2//2\n",
    "b=3//2*3\n",
    "print(a,b)"
   ]
  },
  {
   "cell_type": "code",
   "execution_count": 17,
   "id": "4cb91cc3",
   "metadata": {},
   "outputs": [
    {
     "name": "stdout",
     "output_type": "stream",
     "text": [
      "1000미만의 자연수에서 3의 배수와 5의 배수의 총합 : 233168\n"
     ]
    }
   ],
   "source": [
    "n=0\n",
    "for i in range(1,1000):\n",
    "    if i%3==0 or i%5==0:\n",
    "        n=n+i\n",
    "print('1000미만의 자연수에서 3의 배수와 5의 배수의 총합 :',n)"
   ]
  },
  {
   "cell_type": "code",
   "execution_count": 12,
   "id": "77c77a98",
   "metadata": {
    "scrolled": false
   },
   "outputs": [
    {
     "name": "stdout",
     "output_type": "stream",
     "text": [
      "1000미만의 자연수에서 3의 배수와 5의 배수의 총합 : 233168\n"
     ]
    }
   ],
   "source": [
    "s1=0\n",
    "s2,s3=0,0\n",
    "for i in range(1000):\n",
    "    if i%3==0:\n",
    "        s1=s1+i\n",
    "    if i%5==0:\n",
    "        s2=s2+i\n",
    "    if (i%3==0)and(i%5==0):\n",
    "        s3=s3+i\n",
    "print('1000미만의 자연수에서 3의 배수와 5의 배수의 총합 :',s1+s2-s3)"
   ]
  },
  {
   "cell_type": "code",
   "execution_count": null,
   "id": "a74e112b",
   "metadata": {},
   "outputs": [],
   "source": []
  }
 ],
 "metadata": {
  "kernelspec": {
   "display_name": "Python 3 (ipykernel)",
   "language": "python",
   "name": "python3"
  },
  "language_info": {
   "codemirror_mode": {
    "name": "ipython",
    "version": 3
   },
   "file_extension": ".py",
   "mimetype": "text/x-python",
   "name": "python",
   "nbconvert_exporter": "python",
   "pygments_lexer": "ipython3",
   "version": "3.9.12"
  }
 },
 "nbformat": 4,
 "nbformat_minor": 5
}
